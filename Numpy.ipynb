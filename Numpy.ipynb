{
  "nbformat": 4,
  "nbformat_minor": 0,
  "metadata": {
    "colab": {
      "name": "Numpy.ipynb",
      "provenance": [],
      "collapsed_sections": []
    },
    "kernelspec": {
      "name": "python3",
      "display_name": "Python 3"
    }
  },
  "cells": [
    {
      "cell_type": "markdown",
      "metadata": {
        "id": "p5UzTSH2Q2v-",
        "colab_type": "text"
      },
      "source": [
        "Install Numpy"
      ]
    },
    {
      "cell_type": "code",
      "metadata": {
        "id": "HEQ8claVQxAV",
        "colab_type": "code",
        "colab": {
          "base_uri": "https://localhost:8080/",
          "height": 34
        },
        "outputId": "291c8ad5-b4b7-421b-a2f8-0fd060a1ae39"
      },
      "source": [
        "pip install numpy"
      ],
      "execution_count": 1,
      "outputs": [
        {
          "output_type": "stream",
          "text": [
            "Requirement already satisfied: numpy in /usr/local/lib/python3.6/dist-packages (1.18.4)\n"
          ],
          "name": "stdout"
        }
      ]
    },
    {
      "cell_type": "code",
      "metadata": {
        "id": "LQJE8jZ4Q-Lw",
        "colab_type": "code",
        "colab": {}
      },
      "source": [
        "import numpy as np"
      ],
      "execution_count": 0,
      "outputs": []
    },
    {
      "cell_type": "code",
      "metadata": {
        "id": "wlXP9b7HRBfJ",
        "colab_type": "code",
        "colab": {}
      },
      "source": [
        "arr=np.array([4,5,6,7,8,9])"
      ],
      "execution_count": 0,
      "outputs": []
    },
    {
      "cell_type": "code",
      "metadata": {
        "id": "lBIMNKTwRG5S",
        "colab_type": "code",
        "colab": {
          "base_uri": "https://localhost:8080/",
          "height": 34
        },
        "outputId": "ca4e8fbe-daea-4fc3-9849-671c58ffd0ef"
      },
      "source": [
        "arr"
      ],
      "execution_count": 5,
      "outputs": [
        {
          "output_type": "execute_result",
          "data": {
            "text/plain": [
              "array([4, 5, 6, 7, 8, 9])"
            ]
          },
          "metadata": {
            "tags": []
          },
          "execution_count": 5
        }
      ]
    },
    {
      "cell_type": "code",
      "metadata": {
        "id": "T-pIwkbYRJuy",
        "colab_type": "code",
        "colab": {
          "base_uri": "https://localhost:8080/",
          "height": 34
        },
        "outputId": "176b1217-71ea-43d5-bc28-28e1183e5b14"
      },
      "source": [
        "type(arr)"
      ],
      "execution_count": 6,
      "outputs": [
        {
          "output_type": "execute_result",
          "data": {
            "text/plain": [
              "numpy.ndarray"
            ]
          },
          "metadata": {
            "tags": []
          },
          "execution_count": 6
        }
      ]
    },
    {
      "cell_type": "markdown",
      "metadata": {
        "id": "RpQmPFlFRQf_",
        "colab_type": "text"
      },
      "source": [
        "Shape of matrix"
      ]
    },
    {
      "cell_type": "code",
      "metadata": {
        "id": "QFVEVjhRRLAG",
        "colab_type": "code",
        "colab": {
          "base_uri": "https://localhost:8080/",
          "height": 34
        },
        "outputId": "59602161-432d-42a0-bb74-bb8067c792c8"
      },
      "source": [
        "arr.shape"
      ],
      "execution_count": 8,
      "outputs": [
        {
          "output_type": "execute_result",
          "data": {
            "text/plain": [
              "(6,)"
            ]
          },
          "metadata": {
            "tags": []
          },
          "execution_count": 8
        }
      ]
    },
    {
      "cell_type": "code",
      "metadata": {
        "id": "rUbUUr7KRPas",
        "colab_type": "code",
        "colab": {
          "base_uri": "https://localhost:8080/",
          "height": 34
        },
        "outputId": "fdf3f954-ae27-4938-ecfc-7777b0353286"
      },
      "source": [
        "arr.ndim"
      ],
      "execution_count": 9,
      "outputs": [
        {
          "output_type": "execute_result",
          "data": {
            "text/plain": [
              "1"
            ]
          },
          "metadata": {
            "tags": []
          },
          "execution_count": 9
        }
      ]
    },
    {
      "cell_type": "code",
      "metadata": {
        "id": "xX3X7d8CRa3t",
        "colab_type": "code",
        "colab": {}
      },
      "source": [
        "arr2 = np.array([[3,5,9],\n",
        "                 [4,5,7]])"
      ],
      "execution_count": 0,
      "outputs": []
    },
    {
      "cell_type": "code",
      "metadata": {
        "id": "7kvPVQunRq6Y",
        "colab_type": "code",
        "colab": {
          "base_uri": "https://localhost:8080/",
          "height": 50
        },
        "outputId": "89de0362-aee7-4ee9-ca75-90458ba57477"
      },
      "source": [
        "\n",
        "arr2"
      ],
      "execution_count": 15,
      "outputs": [
        {
          "output_type": "execute_result",
          "data": {
            "text/plain": [
              "array([[3, 5, 9],\n",
              "       [4, 5, 7]])"
            ]
          },
          "metadata": {
            "tags": []
          },
          "execution_count": 15
        }
      ]
    },
    {
      "cell_type": "code",
      "metadata": {
        "id": "dSyC8XhHRrxH",
        "colab_type": "code",
        "colab": {
          "base_uri": "https://localhost:8080/",
          "height": 34
        },
        "outputId": "f70f2ad0-6d58-4b5b-dc08-d21cb47bfe6a"
      },
      "source": [
        "arr2.shape"
      ],
      "execution_count": 16,
      "outputs": [
        {
          "output_type": "execute_result",
          "data": {
            "text/plain": [
              "(2, 3)"
            ]
          },
          "metadata": {
            "tags": []
          },
          "execution_count": 16
        }
      ]
    },
    {
      "cell_type": "code",
      "metadata": {
        "id": "fvloEAU3R4h6",
        "colab_type": "code",
        "colab": {
          "base_uri": "https://localhost:8080/",
          "height": 34
        },
        "outputId": "17fa416a-ee7e-4462-e7dd-1f9ba8315cb9"
      },
      "source": [
        "arr2.ndim"
      ],
      "execution_count": 17,
      "outputs": [
        {
          "output_type": "execute_result",
          "data": {
            "text/plain": [
              "2"
            ]
          },
          "metadata": {
            "tags": []
          },
          "execution_count": 17
        }
      ]
    },
    {
      "cell_type": "code",
      "metadata": {
        "id": "S5C2739oR5zQ",
        "colab_type": "code",
        "colab": {}
      },
      "source": [
        "arr3 = np.array([[4,5,2],\n",
        "                 [5,4,8],\n",
        "                 [6,4,9]])"
      ],
      "execution_count": 0,
      "outputs": []
    },
    {
      "cell_type": "code",
      "metadata": {
        "id": "JP-9VRG3SJFt",
        "colab_type": "code",
        "colab": {
          "base_uri": "https://localhost:8080/",
          "height": 34
        },
        "outputId": "893cc7f6-1987-4a18-f4e9-8b7b197f2661"
      },
      "source": [
        "arr3.ndim"
      ],
      "execution_count": 19,
      "outputs": [
        {
          "output_type": "execute_result",
          "data": {
            "text/plain": [
              "2"
            ]
          },
          "metadata": {
            "tags": []
          },
          "execution_count": 19
        }
      ]
    },
    {
      "cell_type": "code",
      "metadata": {
        "id": "N4jEqPQxSK_K",
        "colab_type": "code",
        "colab": {
          "base_uri": "https://localhost:8080/",
          "height": 34
        },
        "outputId": "10183b93-0173-4602-b050-4be4996e851a"
      },
      "source": [
        "arr3.shape"
      ],
      "execution_count": 20,
      "outputs": [
        {
          "output_type": "execute_result",
          "data": {
            "text/plain": [
              "(3, 3)"
            ]
          },
          "metadata": {
            "tags": []
          },
          "execution_count": 20
        }
      ]
    },
    {
      "cell_type": "markdown",
      "metadata": {
        "id": "p4Sp40wqSV5k",
        "colab_type": "text"
      },
      "source": [
        "Operation on Numpy array"
      ]
    },
    {
      "cell_type": "code",
      "metadata": {
        "id": "mYkRmwRwST3e",
        "colab_type": "code",
        "colab": {}
      },
      "source": [
        "# Creating a randon array\n",
        "a = np.random.randint(1,100,size = (3,3))"
      ],
      "execution_count": 0,
      "outputs": []
    },
    {
      "cell_type": "code",
      "metadata": {
        "id": "Gk9M4o65SfSC",
        "colab_type": "code",
        "colab": {}
      },
      "source": [
        "b = np.random.randint(1,100,size = (3,3))"
      ],
      "execution_count": 0,
      "outputs": []
    },
    {
      "cell_type": "code",
      "metadata": {
        "id": "JR5HDp3SSmkY",
        "colab_type": "code",
        "colab": {
          "base_uri": "https://localhost:8080/",
          "height": 67
        },
        "outputId": "287f4fa5-40d3-4d9b-8d25-cee4a18e3aa0"
      },
      "source": [
        "a"
      ],
      "execution_count": 24,
      "outputs": [
        {
          "output_type": "execute_result",
          "data": {
            "text/plain": [
              "array([[28, 20, 26],\n",
              "       [78, 32, 99],\n",
              "       [59, 33, 75]])"
            ]
          },
          "metadata": {
            "tags": []
          },
          "execution_count": 24
        }
      ]
    },
    {
      "cell_type": "code",
      "metadata": {
        "id": "Kh7aJpSgSnwp",
        "colab_type": "code",
        "colab": {
          "base_uri": "https://localhost:8080/",
          "height": 67
        },
        "outputId": "1d7121cb-598b-4997-da74-edc969689f4d"
      },
      "source": [
        "b"
      ],
      "execution_count": 25,
      "outputs": [
        {
          "output_type": "execute_result",
          "data": {
            "text/plain": [
              "array([[79, 70, 95],\n",
              "       [69, 52, 77],\n",
              "       [98, 87, 77]])"
            ]
          },
          "metadata": {
            "tags": []
          },
          "execution_count": 25
        }
      ]
    },
    {
      "cell_type": "code",
      "metadata": {
        "id": "i7PYNb2vSoL0",
        "colab_type": "code",
        "colab": {
          "base_uri": "https://localhost:8080/",
          "height": 67
        },
        "outputId": "a6c67521-ea5d-4db1-84e3-74a58b1f1631"
      },
      "source": [
        "a+b"
      ],
      "execution_count": 26,
      "outputs": [
        {
          "output_type": "execute_result",
          "data": {
            "text/plain": [
              "array([[107,  90, 121],\n",
              "       [147,  84, 176],\n",
              "       [157, 120, 152]])"
            ]
          },
          "metadata": {
            "tags": []
          },
          "execution_count": 26
        }
      ]
    },
    {
      "cell_type": "code",
      "metadata": {
        "id": "npetJ7jFSpZt",
        "colab_type": "code",
        "colab": {
          "base_uri": "https://localhost:8080/",
          "height": 67
        },
        "outputId": "606dc1ba-c86c-4640-d2ec-79ffda2e6f5a"
      },
      "source": [
        "a*b"
      ],
      "execution_count": 27,
      "outputs": [
        {
          "output_type": "execute_result",
          "data": {
            "text/plain": [
              "array([[2212, 1400, 2470],\n",
              "       [5382, 1664, 7623],\n",
              "       [5782, 2871, 5775]])"
            ]
          },
          "metadata": {
            "tags": []
          },
          "execution_count": 27
        }
      ]
    },
    {
      "cell_type": "code",
      "metadata": {
        "id": "KJOUsxIBSr4b",
        "colab_type": "code",
        "colab": {
          "base_uri": "https://localhost:8080/",
          "height": 67
        },
        "outputId": "10182c8f-3552-44e2-f40f-4de8c4bd5382"
      },
      "source": [
        "a"
      ],
      "execution_count": 29,
      "outputs": [
        {
          "output_type": "execute_result",
          "data": {
            "text/plain": [
              "array([[11, 21, 84],\n",
              "       [95, 16, 41],\n",
              "       [73, 61, 44]])"
            ]
          },
          "metadata": {
            "tags": []
          },
          "execution_count": 29
        }
      ]
    },
    {
      "cell_type": "code",
      "metadata": {
        "id": "IJcecnk0S2PV",
        "colab_type": "code",
        "colab": {}
      },
      "source": [
        "c=np.random.randint(0,100,size = (3,7))"
      ],
      "execution_count": 0,
      "outputs": []
    },
    {
      "cell_type": "code",
      "metadata": {
        "id": "plZl44jaTRyQ",
        "colab_type": "code",
        "colab": {
          "base_uri": "https://localhost:8080/",
          "height": 34
        },
        "outputId": "53176f96-6ed2-4571-b227-8f8430fc4cd4"
      },
      "source": [
        "a.shape"
      ],
      "execution_count": 33,
      "outputs": [
        {
          "output_type": "execute_result",
          "data": {
            "text/plain": [
              "(3, 3)"
            ]
          },
          "metadata": {
            "tags": []
          },
          "execution_count": 33
        }
      ]
    },
    {
      "cell_type": "code",
      "metadata": {
        "id": "idfHcGNuTUaI",
        "colab_type": "code",
        "colab": {
          "base_uri": "https://localhost:8080/",
          "height": 34
        },
        "outputId": "2148e9e0-44d0-4640-a0fa-ab7583e471dd"
      },
      "source": [
        "b.shape"
      ],
      "execution_count": 34,
      "outputs": [
        {
          "output_type": "execute_result",
          "data": {
            "text/plain": [
              "(3, 3)"
            ]
          },
          "metadata": {
            "tags": []
          },
          "execution_count": 34
        }
      ]
    },
    {
      "cell_type": "code",
      "metadata": {
        "id": "XTZI7yObTaCf",
        "colab_type": "code",
        "colab": {
          "base_uri": "https://localhost:8080/",
          "height": 34
        },
        "outputId": "870cb9cb-db16-4701-ae51-5a77d1a6de1e"
      },
      "source": [
        "c.shape"
      ],
      "execution_count": 35,
      "outputs": [
        {
          "output_type": "execute_result",
          "data": {
            "text/plain": [
              "(3, 7)"
            ]
          },
          "metadata": {
            "tags": []
          },
          "execution_count": 35
        }
      ]
    },
    {
      "cell_type": "code",
      "metadata": {
        "id": "1M8RM_RbTau0",
        "colab_type": "code",
        "colab": {
          "base_uri": "https://localhost:8080/",
          "height": 67
        },
        "outputId": "d812d2e3-e3aa-4870-a1eb-c81af5a3edc9"
      },
      "source": [
        "#dot product\n",
        "np.dot(a,c)"
      ],
      "execution_count": 36,
      "outputs": [
        {
          "output_type": "execute_result",
          "data": {
            "text/plain": [
              "array([[ 4815,  6620,  6328,  3096,  3682,  3589,  6799],\n",
              "       [ 9475, 10010, 10065,  3159,  5446,  5313,  8598],\n",
              "       [11065, 10426,  9142,  3132,  8732,  5785, 11725]])"
            ]
          },
          "metadata": {
            "tags": []
          },
          "execution_count": 36
        }
      ]
    },
    {
      "cell_type": "code",
      "metadata": {
        "id": "V-kGc9aWTfhM",
        "colab_type": "code",
        "colab": {}
      },
      "source": [
        "# Reshaping"
      ],
      "execution_count": 0,
      "outputs": []
    },
    {
      "cell_type": "markdown",
      "metadata": {
        "id": "7ElSEgaKUBX1",
        "colab_type": "text"
      },
      "source": [
        "Reshaping"
      ]
    },
    {
      "cell_type": "code",
      "metadata": {
        "id": "u-PRJS12ToF7",
        "colab_type": "code",
        "colab": {
          "base_uri": "https://localhost:8080/",
          "height": 67
        },
        "outputId": "54e8e1f7-cde8-46cc-9ff3-800393d136bb"
      },
      "source": [
        "c"
      ],
      "execution_count": 39,
      "outputs": [
        {
          "output_type": "execute_result",
          "data": {
            "text/plain": [
              "array([[75, 73, 77, 18, 35, 38, 53],\n",
              "       [70, 41, 13,  6, 89, 27, 92],\n",
              "       [30, 59, 62, 33, 17, 31, 51]])"
            ]
          },
          "metadata": {
            "tags": []
          },
          "execution_count": 39
        }
      ]
    },
    {
      "cell_type": "code",
      "metadata": {
        "id": "7ISdlmzzTnUS",
        "colab_type": "code",
        "colab": {
          "base_uri": "https://localhost:8080/",
          "height": 34
        },
        "outputId": "9ad5c463-544e-4f6e-983d-6c44ce96f883"
      },
      "source": [
        "c.shape"
      ],
      "execution_count": 40,
      "outputs": [
        {
          "output_type": "execute_result",
          "data": {
            "text/plain": [
              "(3, 7)"
            ]
          },
          "metadata": {
            "tags": []
          },
          "execution_count": 40
        }
      ]
    },
    {
      "cell_type": "code",
      "metadata": {
        "id": "bRSBWmr1TpiQ",
        "colab_type": "code",
        "colab": {
          "base_uri": "https://localhost:8080/",
          "height": 134
        },
        "outputId": "21684755-9d0a-40a2-b858-0303849d4fdc"
      },
      "source": [
        "np.reshape(c,(7,3))"
      ],
      "execution_count": 41,
      "outputs": [
        {
          "output_type": "execute_result",
          "data": {
            "text/plain": [
              "array([[75, 73, 77],\n",
              "       [18, 35, 38],\n",
              "       [53, 70, 41],\n",
              "       [13,  6, 89],\n",
              "       [27, 92, 30],\n",
              "       [59, 62, 33],\n",
              "       [17, 31, 51]])"
            ]
          },
          "metadata": {
            "tags": []
          },
          "execution_count": 41
        }
      ]
    },
    {
      "cell_type": "code",
      "metadata": {
        "id": "4ptG2s65T2rP",
        "colab_type": "code",
        "colab": {
          "base_uri": "https://localhost:8080/",
          "height": 50
        },
        "outputId": "817dd2a2-8231-4368-f59b-7ed0aca13be0"
      },
      "source": [
        "np.reshape(c,(1,21))"
      ],
      "execution_count": 42,
      "outputs": [
        {
          "output_type": "execute_result",
          "data": {
            "text/plain": [
              "array([[75, 73, 77, 18, 35, 38, 53, 70, 41, 13,  6, 89, 27, 92, 30, 59,\n",
              "        62, 33, 17, 31, 51]])"
            ]
          },
          "metadata": {
            "tags": []
          },
          "execution_count": 42
        }
      ]
    },
    {
      "cell_type": "code",
      "metadata": {
        "id": "YWN89xP2UU7P",
        "colab_type": "code",
        "colab": {
          "base_uri": "https://localhost:8080/",
          "height": 34
        },
        "outputId": "e479f6d5-d00c-4a3d-ab40-92302fe64643"
      },
      "source": [
        "# array slicing\n",
        "c[0,0]"
      ],
      "execution_count": 45,
      "outputs": [
        {
          "output_type": "execute_result",
          "data": {
            "text/plain": [
              "75"
            ]
          },
          "metadata": {
            "tags": []
          },
          "execution_count": 45
        }
      ]
    },
    {
      "cell_type": "code",
      "metadata": {
        "id": "pZ2Bqcl1UPt2",
        "colab_type": "code",
        "colab": {
          "base_uri": "https://localhost:8080/",
          "height": 34
        },
        "outputId": "dcdd22ac-80de-4feb-d3e9-09995f77c672"
      },
      "source": [
        "c[-1,-1]"
      ],
      "execution_count": 46,
      "outputs": [
        {
          "output_type": "execute_result",
          "data": {
            "text/plain": [
              "51"
            ]
          },
          "metadata": {
            "tags": []
          },
          "execution_count": 46
        }
      ]
    },
    {
      "cell_type": "code",
      "metadata": {
        "id": "EXj-p4WHUi99",
        "colab_type": "code",
        "colab": {
          "base_uri": "https://localhost:8080/",
          "height": 67
        },
        "outputId": "8c0f2889-4af9-46bb-d7c1-f374d882f964"
      },
      "source": [
        "c[: , 1:6]"
      ],
      "execution_count": 48,
      "outputs": [
        {
          "output_type": "execute_result",
          "data": {
            "text/plain": [
              "array([[73, 77, 18, 35, 38],\n",
              "       [41, 13,  6, 89, 27],\n",
              "       [59, 62, 33, 17, 31]])"
            ]
          },
          "metadata": {
            "tags": []
          },
          "execution_count": 48
        }
      ]
    },
    {
      "cell_type": "code",
      "metadata": {
        "id": "LHLlSC7EVCMY",
        "colab_type": "code",
        "colab": {
          "base_uri": "https://localhost:8080/",
          "height": 50
        },
        "outputId": "ba41020b-11f6-4b8d-e3cf-72229a97e5d4"
      },
      "source": [
        "c[0:2,4:7]"
      ],
      "execution_count": 52,
      "outputs": [
        {
          "output_type": "execute_result",
          "data": {
            "text/plain": [
              "array([[35, 38, 53],\n",
              "       [89, 27, 92]])"
            ]
          },
          "metadata": {
            "tags": []
          },
          "execution_count": 52
        }
      ]
    },
    {
      "cell_type": "code",
      "metadata": {
        "id": "udSsw1hJVW3r",
        "colab_type": "code",
        "colab": {
          "base_uri": "https://localhost:8080/",
          "height": 50
        },
        "outputId": "b740c2f3-34b4-4336-9eea-19059537f38b"
      },
      "source": [
        "c[:2,4:]"
      ],
      "execution_count": 54,
      "outputs": [
        {
          "output_type": "execute_result",
          "data": {
            "text/plain": [
              "array([[35, 38, 53],\n",
              "       [89, 27, 92]])"
            ]
          },
          "metadata": {
            "tags": []
          },
          "execution_count": 54
        }
      ]
    },
    {
      "cell_type": "markdown",
      "metadata": {
        "id": "1iBGQ4ctVsF_",
        "colab_type": "text"
      },
      "source": [
        "Stacking\n",
        "\n",
        "1.  vhstack\n",
        "2.  hsatck\n",
        "\n"
      ]
    },
    {
      "cell_type": "code",
      "metadata": {
        "id": "kNA6xq8zVlJZ",
        "colab_type": "code",
        "colab": {}
      },
      "source": [
        "a = np.random.randint(1,10,(5,2))"
      ],
      "execution_count": 0,
      "outputs": []
    },
    {
      "cell_type": "code",
      "metadata": {
        "id": "cwwT0_tgWLeX",
        "colab_type": "code",
        "colab": {}
      },
      "source": [
        "b = np.random.randint(1,10,(5,2))"
      ],
      "execution_count": 0,
      "outputs": []
    },
    {
      "cell_type": "code",
      "metadata": {
        "id": "WCeKq0R1Wzrh",
        "colab_type": "code",
        "colab": {
          "base_uri": "https://localhost:8080/",
          "height": 101
        },
        "outputId": "31f66929-3571-4600-ca1f-43e6f7f97c09"
      },
      "source": [
        "a"
      ],
      "execution_count": 64,
      "outputs": [
        {
          "output_type": "execute_result",
          "data": {
            "text/plain": [
              "array([[3, 7],\n",
              "       [8, 4],\n",
              "       [2, 3],\n",
              "       [3, 4],\n",
              "       [9, 6]])"
            ]
          },
          "metadata": {
            "tags": []
          },
          "execution_count": 64
        }
      ]
    },
    {
      "cell_type": "code",
      "metadata": {
        "id": "fii6PjpwWfEV",
        "colab_type": "code",
        "colab": {
          "base_uri": "https://localhost:8080/",
          "height": 101
        },
        "outputId": "7595120e-94e9-4a1d-bdf6-c2ffd981abc8"
      },
      "source": [
        "b"
      ],
      "execution_count": 65,
      "outputs": [
        {
          "output_type": "execute_result",
          "data": {
            "text/plain": [
              "array([[7, 8],\n",
              "       [6, 7],\n",
              "       [9, 1],\n",
              "       [4, 7],\n",
              "       [6, 2]])"
            ]
          },
          "metadata": {
            "tags": []
          },
          "execution_count": 65
        }
      ]
    },
    {
      "cell_type": "code",
      "metadata": {
        "id": "5oUelkLZWL2d",
        "colab_type": "code",
        "colab": {
          "base_uri": "https://localhost:8080/",
          "height": 101
        },
        "outputId": "00bf8545-4c63-4d42-9b23-8c17b3b8d5ac"
      },
      "source": [
        "np.hstack((a,b))"
      ],
      "execution_count": 66,
      "outputs": [
        {
          "output_type": "execute_result",
          "data": {
            "text/plain": [
              "array([[3, 7, 7, 8],\n",
              "       [8, 4, 6, 7],\n",
              "       [2, 3, 9, 1],\n",
              "       [3, 4, 4, 7],\n",
              "       [9, 6, 6, 2]])"
            ]
          },
          "metadata": {
            "tags": []
          },
          "execution_count": 66
        }
      ]
    },
    {
      "cell_type": "markdown",
      "metadata": {
        "id": "F-ICOR4KW30g",
        "colab_type": "text"
      },
      "source": [
        "# Matplotlib"
      ]
    },
    {
      "cell_type": "code",
      "metadata": {
        "id": "cbjZU9IbWUyw",
        "colab_type": "code",
        "colab": {}
      },
      "source": [
        "import matplotlib.pyplot as plt\n"
      ],
      "execution_count": 0,
      "outputs": []
    },
    {
      "cell_type": "code",
      "metadata": {
        "id": "RGXdsCicXCfg",
        "colab_type": "code",
        "colab": {}
      },
      "source": [
        "#reading image\n",
        "img = plt.imread(\"./roman-synkevych-vXInUOv1n84-unsplash.jpg\")"
      ],
      "execution_count": 0,
      "outputs": []
    },
    {
      "cell_type": "code",
      "metadata": {
        "id": "tHRgRrTJXwcU",
        "colab_type": "code",
        "colab": {
          "base_uri": "https://localhost:8080/",
          "height": 840
        },
        "outputId": "6db08510-b779-4afe-c45e-3871964eb7b1"
      },
      "source": [
        "img"
      ],
      "execution_count": 69,
      "outputs": [
        {
          "output_type": "execute_result",
          "data": {
            "text/plain": [
              "array([[[5, 1, 2],\n",
              "        [6, 2, 3],\n",
              "        [6, 2, 3],\n",
              "        ...,\n",
              "        [4, 0, 3],\n",
              "        [5, 0, 4],\n",
              "        [6, 1, 5]],\n",
              "\n",
              "       [[5, 1, 2],\n",
              "        [6, 2, 3],\n",
              "        [7, 3, 4],\n",
              "        ...,\n",
              "        [5, 0, 4],\n",
              "        [6, 1, 5],\n",
              "        [7, 2, 6]],\n",
              "\n",
              "       [[6, 2, 3],\n",
              "        [6, 2, 3],\n",
              "        [7, 3, 4],\n",
              "        ...,\n",
              "        [7, 2, 6],\n",
              "        [7, 2, 6],\n",
              "        [7, 2, 6]],\n",
              "\n",
              "       ...,\n",
              "\n",
              "       [[7, 3, 4],\n",
              "        [7, 3, 4],\n",
              "        [6, 2, 3],\n",
              "        ...,\n",
              "        [6, 1, 5],\n",
              "        [6, 1, 5],\n",
              "        [6, 1, 5]],\n",
              "\n",
              "       [[8, 4, 5],\n",
              "        [7, 3, 4],\n",
              "        [7, 3, 4],\n",
              "        ...,\n",
              "        [6, 1, 5],\n",
              "        [6, 1, 5],\n",
              "        [6, 1, 5]],\n",
              "\n",
              "       [[8, 4, 5],\n",
              "        [7, 3, 4],\n",
              "        [7, 3, 4],\n",
              "        ...,\n",
              "        [6, 1, 5],\n",
              "        [6, 1, 5],\n",
              "        [6, 1, 5]]], dtype=uint8)"
            ]
          },
          "metadata": {
            "tags": []
          },
          "execution_count": 69
        }
      ]
    },
    {
      "cell_type": "code",
      "metadata": {
        "id": "kxaKL28UXx5U",
        "colab_type": "code",
        "colab": {
          "base_uri": "https://localhost:8080/",
          "height": 34
        },
        "outputId": "f3473dee-fcc8-493e-e35e-af17c368b004"
      },
      "source": [
        "type(img)"
      ],
      "execution_count": 70,
      "outputs": [
        {
          "output_type": "execute_result",
          "data": {
            "text/plain": [
              "numpy.ndarray"
            ]
          },
          "metadata": {
            "tags": []
          },
          "execution_count": 70
        }
      ]
    },
    {
      "cell_type": "code",
      "metadata": {
        "id": "Fc1WbCFbXzDy",
        "colab_type": "code",
        "colab": {
          "base_uri": "https://localhost:8080/",
          "height": 34
        },
        "outputId": "e6b9b878-6f6c-4982-bf3f-f251a7c666a5"
      },
      "source": [
        "img.shape"
      ],
      "execution_count": 71,
      "outputs": [
        {
          "output_type": "execute_result",
          "data": {
            "text/plain": [
              "(3648, 5472, 3)"
            ]
          },
          "metadata": {
            "tags": []
          },
          "execution_count": 71
        }
      ]
    },
    {
      "cell_type": "code",
      "metadata": {
        "id": "SPYlfXQjX2a_",
        "colab_type": "code",
        "colab": {
          "base_uri": "https://localhost:8080/",
          "height": 286
        },
        "outputId": "38531343-73a4-4e50-b690-62f02364b7c9"
      },
      "source": [
        "# display img\n",
        "plt.imshow(img)"
      ],
      "execution_count": 73,
      "outputs": [
        {
          "output_type": "execute_result",
          "data": {
            "text/plain": [
              "<matplotlib.image.AxesImage at 0x7f1b5a6ec390>"
            ]
          },
          "metadata": {
            "tags": []
          },
          "execution_count": 73
        },
        {
          "output_type": "display_data",
          "data": {
            "image/png": "[encoded data removed]",
            "text/plain": [
              "<Figure size 432x288 with 1 Axes>"
            ]
          },
          "metadata": {
            "tags": [],
            "needs_background": "light"
          }
        }
      ]
    },
    {
      "cell_type": "code",
      "metadata": {
        "id": "UZLWk4aEYEMr",
        "colab_type": "code",
        "colab": {}
      },
      "source": [
        "#img[rows, cols, 0:3]\n",
        "crop = img[ 1000:2150 , 2000 : 3000 , 0:3]"
      ],
      "execution_count": 0,
      "outputs": []
    },
    {
      "cell_type": "code",
      "metadata": {
        "id": "a3e34RqQYcun",
        "colab_type": "code",
        "colab": {
          "base_uri": "https://localhost:8080/",
          "height": 286
        },
        "outputId": "48338939-1818-40d2-d1a4-a45c2a27a901"
      },
      "source": [
        "plt.imshow(crop)"
      ],
      "execution_count": 87,
      "outputs": [
        {
          "output_type": "execute_result",
          "data": {
            "text/plain": [
              "<matplotlib.image.AxesImage at 0x7f1b587ef8d0>"
            ]
          },
          "metadata": {
            "tags": []
          },
          "execution_count": 87
        },
        {
          "output_type": "display_data",
          "data": {
            "image/png": "[encoded data removed]",
            "text/plain": [
              "<Figure size 432x288 with 1 Axes>"
            ]
          },
          "metadata": {
            "tags": [],
            "needs_background": "light"
          }
        }
      ]
    },
    {
      "cell_type": "code",
      "metadata": {
        "id": "PtdG5ImVY4tp",
        "colab_type": "code",
        "colab": {}
      },
      "source": [
        "# assingment to make image collage"
      ],
      "execution_count": 0,
      "outputs": []
    }
  ]
}